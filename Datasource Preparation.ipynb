{
 "cells": [
  {
   "cell_type": "code",
   "execution_count": 1,
   "id": "a7b5deb2",
   "metadata": {},
   "outputs": [],
   "source": [
    "### Turo data is extracted from json, u don't need to run it agian, but I will keep the code here\n",
    "### just import car rental turo.csv"
   ]
  },
  {
   "cell_type": "code",
   "execution_count": null,
   "id": "d0205624",
   "metadata": {},
   "outputs": [],
   "source": [
    "### Extrat Turo date from json file and normalize the dictonaries to dataframe\n",
    "import json \n",
    "import pandas as pd \n",
    "from pandas.io.json import json_normalize \n",
    "df = pd.read_json('database.json')\n",
    "df.head()\n",
    "owner_df = pd.concat([pd.DataFrame(json_normalize(x)) for x in df['owner']],ignore_index=True)\n",
    "owner_df.head()\n",
    "rate_df = pd.concat([pd.DataFrame(json_normalize(x)) for x in df['rate']],ignore_index=True)\n",
    "rate_df.head()\n",
    "### distanceWithUnit\n",
    "distanceWithUnit_df = pd.concat([pd.DataFrame(json_normalize(x)) for x in df['distanceWithUnit']],ignore_index=True)\n",
    "distanceWithUnit_df.head()\n",
    "### location\n",
    "location_df = pd.concat([pd.DataFrame(json_normalize(x)) for x in df['location']],ignore_index=True)\n",
    "location_df.head()\n",
    "### vehicle\n",
    "vehicle_df = pd.concat([pd.DataFrame(json_normalize(x)) for x in df['vehicle']],ignore_index=True)\n",
    "vehicle_df.head()\n",
    "### Combine the data\n",
    "dff=df[['rating','renterTripsTaken','reviewCount','responseRate','newListing','freeDeliveryPromotion','instantBookDisplayed','deliveryLabel']]\n",
    "rate_dff=rate_df['averageDailyPrice']\n",
    "distance_dff=distanceWithUnit_df['scalar']\n",
    "location_dff=location_df[['city','longitude','latitude','state']]\n",
    "vehicle_dff=vehicle_df[['model','make','id','listingCreatedTime','year','type','automaticTransmission']]"
   ]
  },
  {
   "cell_type": "code",
   "execution_count": null,
   "id": "19c67002",
   "metadata": {},
   "outputs": [],
   "source": [
    "pdList = [dff, rate_dff,distance_dff,location_dff,vehicle_dff]  # List of your dataframes\n",
    "new_df = pd.concat(pdList,axis=1)\n",
    "new_df.head()"
   ]
  },
  {
   "cell_type": "code",
   "execution_count": null,
   "id": "57d517dd",
   "metadata": {},
   "outputs": [],
   "source": [
    "new_df['listingCreatedTime'] = pd.to_datetime(new_df['listingCreatedTime'],unit='ms')\n",
    "new_df.id.drop_duplicates()\n",
    "len(new_df.id.drop_duplicates()) \n",
    "new_df.to_csv('car rental turo.csv')"
   ]
  },
  {
   "cell_type": "markdown",
   "id": "2cdab861",
   "metadata": {},
   "source": [
   
   ]
  },
  {
   "cell_type": "code",
   "execution_count": 36,
   "id": "94835147",
   "metadata": {},
   "outputs": [],
   "source": [
    "import pandas as pd "
   ]
  },
  {
   "cell_type": "code",
   "execution_count": 37,
   "id": "624fd0da",
   "metadata": {},
   "outputs": [],
   "source": [
    "### combine turo data with population data\n",
    "pop=pd.read_csv('population data.csv')\n",
    "pop.head()\n",
    "new_df= pd.read_csv('car rental turo.csv')\n",
    "level_df=pd.read_csv('Brand Level.csv')"
   ]
  },
  {
   "cell_type": "code",
   "execution_count": 38,
   "id": "a264b062",
   "metadata": {},
   "outputs": [
    {
     "data": {
      "text/plain": [
       "array(['Iowa', 'Minnesota', 'West Virginia', 'Pennsylvania', 'Maine',\n",
       "       'North Carolina', 'Michigan', 'Georgia', 'Washington', 'Oklahoma',\n",
       "       'Hawaii', 'Indiana', 'Kansas', 'Arkansas', 'California',\n",
       "       'Wisconsin', 'Missouri', 'Alabama', 'Arizona', 'Vermont',\n",
       "       'Mississippi', 'Massachusetts', 'Montana', 'New Hampshire', 'Ohio',\n",
       "       'North Dakota', 'Illinois', 'New Mexico', 'Florida', 'Wyoming',\n",
       "       'Idaho', 'Virginia', 'Texas', 'Tennessee', 'Kentucky',\n",
       "       'New Jersey', 'South Dakota', 'South Carolina', 'Louisiana',\n",
       "       'Colorado', 'Connecticut', 'Utah', 'Rhode Island', 'Maryland',\n",
       "       'Nebraska', 'Oregon', 'Delaware', 'Nevada', 'Alaska'], dtype=object)"
      ]
     },
     "execution_count": 38,
     "metadata": {},
     "output_type": "execute_result"
    }
   ],
   "source": [
    "new_df['state'].unique()"
   ]
  },
  {
   "cell_type": "code",
   "execution_count": 39,
   "id": "2168e38f",
   "metadata": {},
   "outputs": [],
   "source": [
    "df0=new_df.copy()\n",
    "df0.replace({'state' : {             'WA' : 'Washington', 'NM' : 'New Mexico', 'GA' : 'Georgia',\n",
    "                                    'FL' :  'Florida' , 'TX' : 'Texas' , 'NC' : 'North Carolina',\n",
    "                                    'SC' : 'South Carolina', 'CT' : 'Connecticut', 'MA' : 'Massachusetts',\n",
    "                                    'ME' : 'Maine', 'AL' : 'Alabama', 'MT' : 'Montana',\n",
    "                                    'TN' : 'Tennessee', 'KY' : 'Kentucky', 'ID' : 'Idaho' ,\n",
    "                                    'UT' : 'Utah', 'MD' : 'Maryland', 'DC' : 'Washington' ,\n",
    "                                    'IA' : 'Iowa', 'OH' : 'Ohio', 'CO' : 'Colorado' ,\n",
    "                                    'VA' : 'Virginia', 'MI' : 'Michigan', 'NJ' : 'New Jersey' ,\n",
    "                                    'IN' : 'Indiana', 'WI' : 'Wisconsin', 'KS' : 'Kansas' ,\n",
    "                                    'MO' : 'Missouri', 'NV' : 'Nevada', 'CA' : 'California' ,\n",
    "                                    'LA' : 'Louisiana', 'AR' : 'Arkansas', 'IL' : 'Illinois' ,\n",
    "                                    'MS' : 'Mississippi', 'NH' : 'New Hampshire', 'MN' : 'Minnesota' ,\n",
    "                                    'OK' : 'Oklahoma', 'NE' : 'Nebraska', 'OR' : 'Oregon' ,\n",
    "                                    'PA' : 'Pennsylvania', 'DE' : 'Delaware', 'AZ' : 'Arizona' ,\n",
    "                                    'WV' : 'West Virginia', 'RI' : 'Rhode Island', 'AK' : 'Alaska',\n",
    "                                    'HI' : 'Hawaii', 'VT' : 'Vermont','ND' : 'North Dakota', 'WY' : 'Wyoming',\n",
    "                                    'SD' : 'South Dakota'}},\n",
    "              inplace=True)\n",
    "df0 = pd.merge(df0, pop, how=\"left\", on=\"state\")\n",
    "df0['listingyear']=pd.DatetimeIndex(df0['listingCreatedTime']).year\n",
    "\n",
    "import numpy as np\n",
    "lst = []\n",
    "def createList(n):\n",
    "\n",
    "    for i in range(n,n+20):\n",
    "        lst.append(i)\n",
    "    return lst\n",
    "yearlist=createList(2000)\n",
    "df0['population'] =0\n",
    "for i in range(len(yearlist)):\n",
    "    df0['population'] = (np.where(df0['listingyear'] == yearlist[i], df0[str(yearlist[i])] ,df0['population']  ))\n",
    "    \n",
    "df0=df0.drop(['2000', '2001','2002','2003','2004','2005','2006','2007','2008','2009','2010','2011','2012','2013','2014','2015','2016','2017','2018','2019'], axis=1)"
   ]
  },
  {
   "cell_type": "code",
   "execution_count": 42,
   "id": "1db33f88",
   "metadata": {},
   "outputs": [],
   "source": [
    "### Combine turo data with brand level information \n",
    "df0=df0.merge(level_df, how='left', on='make')"
   ]
  },
  {
   "cell_type": "code",
   "execution_count": 44,
   "id": "1154f7cd",
   "metadata": {},
   "outputs": [],
   "source": [
    "df0.to_csv('car rental turo data.csv')"
   ]
  },
  {
   "cell_type": "code",
   "execution_count": null,
   "id": "9ec9b8b3",
   "metadata": {},
   "outputs": [],
   "source": []
  }
 ],
 "metadata": {
  "kernelspec": {
   "display_name": "Python 3 (ipykernel)",
   "language": "python",
   "name": "python3"
  },
  "language_info": {
   "codemirror_mode": {
    "name": "ipython",
    "version": 3
   },
   "file_extension": ".py",
   "mimetype": "text/x-python",
   "name": "python",
   "nbconvert_exporter": "python",
   "pygments_lexer": "ipython3",
   "version": "3.9.0"
  }
 },
 "nbformat": 4,
 "nbformat_minor": 5
}
